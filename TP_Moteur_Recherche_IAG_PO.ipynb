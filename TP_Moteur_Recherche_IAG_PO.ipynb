{
  "cells": [
    {
      "cell_type": "markdown",
      "metadata": {
        "id": "view-in-github",
        "colab_type": "text"
      },
      "source": [
        "<a href=\"https://colab.research.google.com/github/RMoulla/IAG_Septeo/blob/main/TP_Moteur_Recherche_IAG_PO.ipynb\" target=\"_parent\"><img src=\"https://colab.research.google.com/assets/colab-badge.svg\" alt=\"Open In Colab\"/></a>"
      ]
    },
    {
      "cell_type": "markdown",
      "id": "23da81d2",
      "metadata": {
        "id": "23da81d2"
      },
      "source": [
        "## **TP – Moteur de recherche e-commerce avec IAG**"
      ]
    },
    {
      "cell_type": "markdown",
      "id": "4ea74a88",
      "metadata": {
        "id": "4ea74a88"
      },
      "source": [
        "### Objectif\n",
        "Concevoir, avec l'aide de l'intelligence artificielle générative (IAG), un moteur de recherche e-commerce, du brief à la simulation du moteur, en passant par la génération des user stories et du prototype visuel."
      ]
    },
    {
      "cell_type": "markdown",
      "id": "bc10a838",
      "metadata": {
        "id": "bc10a838"
      },
      "source": [
        "### Déroulé synthétique\n",
        "1. Reformuler le brief avec l'IAG.\n",
        "2. Générer des user stories avec l'IAG.\n",
        "3. Décrire une maquette avec Galileo AI.\n",
        "4. Simuler un moteur de recherche en Python avec l'IAG.\n",
        "5. Analyser les résultats et conclure."
      ]
    },
    {
      "cell_type": "markdown",
      "id": "7ab66c14",
      "metadata": {
        "id": "7ab66c14"
      },
      "source": [
        "### Étape 1 — Reformuler le brief avec l'IAG\n",
        "Brief de départ :\n",
        "« Les utilisateurs se plaigne de ne pas trouver facilement leurs produits. Concevoir un moteur de recherche intelligent capable de comprendre des requêtes naturelles.»\n",
        "\n",
        "Instruction :\n",
        "Utiliser un outil d'IAG pour reformuler ce brief en une problématique produit IA claire et proposer trois hypothèses de valeur mesurables."
      ]
    },
    {
      "cell_type": "markdown",
      "id": "f04ed15b",
      "metadata": {
        "id": "f04ed15b"
      },
      "source": [
        "### Étape 2 — Générer des user stories avec l'IAG\n",
        "\n",
        "Objectif :\n",
        "Obtenir un backlog initial décrivant les fonctionnalités du moteur de recherche intelligent.\n",
        "\n",
        "Instruction :\n",
        "Demander à l'IAG de proposer plusieurs user stories.\n",
        "\n",
        "Demander également deux critères d'acceptation par user story."
      ]
    },
    {
      "cell_type": "markdown",
      "id": "e7a4e4ea",
      "metadata": {
        "id": "e7a4e4ea"
      },
      "source": [
        "### Étape 3 — Décrire une maquette avec Galileo AI\n",
        "\n",
        "Objectif :\n",
        "Transformer les user stories en description visuelle du moteur de recherche.\n",
        "\n",
        "Instruction :\n",
        "Rédiger un texte à copier dans Galileo AI pour générer une interface correspondant au moteur décrit dans les user stories. La maquette doit inclure :\n",
        "- une barre de recherche avec auto-suggestion et correction automatique\n",
        "- un panneau de filtres (prix, catégories, note)\n",
        "- une zone d'affichage des résultats produits (image, titre, prix, note)\n",
        "- une reformulation de la requête en cas d'erreur ou de faute"
      ]
    },
    {
      "cell_type": "markdown",
      "id": "817663e9",
      "metadata": {
        "id": "817663e9"
      },
      "source": [
        "### Étape 4 — Simuler un moteur de recherche en Python avec l'IAG\n",
        "\n",
        "Objectif :\n",
        "Produire, à l'aide de l'IAG, un script Python simple simulant un moteur de recherche e-commerce.\n",
        "\n",
        "Instruction :\n",
        "Demander à l'IAG de générer un code qui :\n",
        "- basé sur le fichier csv fourni `products.csv`.\n",
        "- permet de chercher des produits par mots-clés à partir d'une requête.\n",
        "- affiche les résultats les plus pertinents triés par similarité textuelle"
      ]
    }
  ],
  "metadata": {
    "language_info": {
      "name": "python"
    },
    "colab": {
      "provenance": [],
      "include_colab_link": true
    }
  },
  "nbformat": 4,
  "nbformat_minor": 5
}