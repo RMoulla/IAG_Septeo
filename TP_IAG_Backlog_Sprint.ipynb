{
  "cells": [
    {
      "cell_type": "markdown",
      "metadata": {
        "id": "view-in-github",
        "colab_type": "text"
      },
      "source": [
        "<a href=\"https://colab.research.google.com/github/RMoulla/IAG_Septeo/blob/main/TP_IAG_Backlog_Sprint.ipynb\" target=\"_parent\"><img src=\"https://colab.research.google.com/assets/colab-badge.svg\" alt=\"Open In Colab\"/></a>"
      ]
    },
    {
      "cell_type": "markdown",
      "id": "d5ec3638",
      "metadata": {
        "id": "d5ec3638"
      },
      "source": [
        "\n",
        "# TP – Du besoin brut au backlog et au plan de sprint avec l’IAG\n",
        "\n",
        "Ce notebook est conçu pour être utilisé sans code, uniquement comme support interactif.  \n",
        "Chaque cellule Markdown contient des consignes que vous pouvez suivre dans l’interface de votre choix (ChatGPT, Claude, Mistral, etc.).\n"
      ]
    },
    {
      "cell_type": "markdown",
      "id": "2f6f35d8",
      "metadata": {
        "id": "2f6f35d8"
      },
      "source": [
        "\n",
        "## Objectifs\n",
        "- Découvrir comment utiliser une IA générative pour transformer un besoin non structuré en backlog.  \n",
        "- Expérimenter la génération automatique de *user stories* et de leurs critères d’acceptation.  \n",
        "- Explorer la planification de sprint assistée par IA.  \n",
        "- Discuter des apports et des limites de l’IAG en gestion de projet agile.  \n"
      ]
    },
    {
      "cell_type": "markdown",
      "id": "cfcd9428",
      "metadata": {
        "id": "cfcd9428"
      },
      "source": [
        "\n",
        "## Objectif\n",
        "\n",
        "\n",
        "```\n",
        "Nous voulons permettre aux clients de payer en plusieurs fois directement depuis l’application.  \n",
        "Le client doit recevoir une notification à chaque échéance.  \n",
        "Dans le back-office, les équipes support doivent suivre les paiements en cours, avoir un rapport mensuel et gérer les relances en cas d’impayés.\n",
        "```\n"
      ]
    },
    {
      "cell_type": "markdown",
      "id": "7e3f5407",
      "metadata": {
        "id": "7e3f5407"
      },
      "source": [
        "\n",
        "## Étape 1 — Génération de backlog\n",
        "\n",
        "**Consigne :**  \n",
        "Collez le texte dans l’IA (ChatGPT, Claude, Mistral, etc.) et utilisez le prompt suivant :\n",
        "\n",
        "```\n",
        "Transforme ce texte en backlog agile.  \n",
        "Formule chaque besoin en user story (“En tant que…, je veux…, afin de…”).  \n",
        "Ajoute 2–3 critères d’acceptation par story.\n",
        "```\n",
        "\n",
        "**Résultat attendu** : une liste de 3–5 user stories claires, chacune accompagnée de critères d’acceptation.\n"
      ]
    },
    {
      "cell_type": "markdown",
      "id": "5ef606e6",
      "metadata": {
        "id": "5ef606e6"
      },
      "source": [
        "\n",
        "## Étape 2 — Planification de sprint\n",
        "\n",
        "**Consigne :**  \n",
        "Demandez ensuite à l’IA :\n",
        "\n",
        "```\n",
        "À partir de ce backlog, propose un plan de sprint de 2 semaines.  \n",
        "Sélectionne les stories prioritaires, découpe-les en sous-tâches techniques et attribue une estimation simple en story points.\n",
        "```\n",
        "\n",
        "**Résultat attendu** : un plan de sprint contenant 2–3 stories sélectionnées, leurs sous-tâches et une estimation en points.\n"
      ]
    }
  ],
  "metadata": {
    "colab": {
      "provenance": [],
      "include_colab_link": true
    }
  },
  "nbformat": 4,
  "nbformat_minor": 5
}